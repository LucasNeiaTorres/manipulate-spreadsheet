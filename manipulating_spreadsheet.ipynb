{
  "nbformat": 4,
  "nbformat_minor": 0,
  "metadata": {
    "colab": {
      "name": "manipulating-spreadsheet.ipynb",
      "provenance": [],
      "authorship_tag": "ABX9TyNYcncBrTH4oedEIrEdLEyf",
      "include_colab_link": true
    },
    "kernelspec": {
      "name": "python3",
      "display_name": "Python 3"
    },
    "language_info": {
      "name": "python"
    }
  },
  "cells": [
    {
      "cell_type": "markdown",
      "metadata": {
        "id": "view-in-github",
        "colab_type": "text"
      },
      "source": [
        "<a href=\"https://colab.research.google.com/github/LucasNeiaTorres/manipulating-spreadsheet/blob/main/manipulating_spreadsheet.ipynb\" target=\"_parent\"><img src=\"https://colab.research.google.com/assets/colab-badge.svg\" alt=\"Open In Colab\"/></a>"
      ]
    },
    {
      "cell_type": "code",
      "metadata": {
        "colab": {
          "base_uri": "https://localhost:8080/"
        },
        "id": "X96HQJYk3yXc",
        "outputId": "630c4518-6aed-4527-fb05-4ef636049952"
      },
      "source": [
        "# Install package gspread using pip\n",
        "!pip install --upgrade gspread"
      ],
      "execution_count": 2,
      "outputs": [
        {
          "output_type": "stream",
          "text": [
            "Requirement already up-to-date: gspread in /usr/local/lib/python3.7/dist-packages (3.7.0)\n",
            "Requirement already satisfied, skipping upgrade: google-auth-oauthlib>=0.4.1 in /usr/local/lib/python3.7/dist-packages (from gspread) (0.4.4)\n",
            "Requirement already satisfied, skipping upgrade: google-auth>=1.12.0 in /usr/local/lib/python3.7/dist-packages (from gspread) (1.31.0)\n",
            "Requirement already satisfied, skipping upgrade: requests-oauthlib>=0.7.0 in /usr/local/lib/python3.7/dist-packages (from google-auth-oauthlib>=0.4.1->gspread) (1.3.0)\n",
            "Requirement already satisfied, skipping upgrade: six>=1.9.0 in /usr/local/lib/python3.7/dist-packages (from google-auth>=1.12.0->gspread) (1.15.0)\n",
            "Requirement already satisfied, skipping upgrade: cachetools<5.0,>=2.0.0 in /usr/local/lib/python3.7/dist-packages (from google-auth>=1.12.0->gspread) (4.2.2)\n",
            "Requirement already satisfied, skipping upgrade: setuptools>=40.3.0 in /usr/local/lib/python3.7/dist-packages (from google-auth>=1.12.0->gspread) (57.0.0)\n",
            "Requirement already satisfied, skipping upgrade: rsa<5,>=3.1.4; python_version >= \"3.6\" in /usr/local/lib/python3.7/dist-packages (from google-auth>=1.12.0->gspread) (4.7.2)\n",
            "Requirement already satisfied, skipping upgrade: pyasn1-modules>=0.2.1 in /usr/local/lib/python3.7/dist-packages (from google-auth>=1.12.0->gspread) (0.2.8)\n",
            "Requirement already satisfied, skipping upgrade: requests>=2.0.0 in /usr/local/lib/python3.7/dist-packages (from requests-oauthlib>=0.7.0->google-auth-oauthlib>=0.4.1->gspread) (2.23.0)\n",
            "Requirement already satisfied, skipping upgrade: oauthlib>=3.0.0 in /usr/local/lib/python3.7/dist-packages (from requests-oauthlib>=0.7.0->google-auth-oauthlib>=0.4.1->gspread) (3.1.1)\n",
            "Requirement already satisfied, skipping upgrade: pyasn1>=0.1.3 in /usr/local/lib/python3.7/dist-packages (from rsa<5,>=3.1.4; python_version >= \"3.6\"->google-auth>=1.12.0->gspread) (0.4.8)\n",
            "Requirement already satisfied, skipping upgrade: idna<3,>=2.5 in /usr/local/lib/python3.7/dist-packages (from requests>=2.0.0->requests-oauthlib>=0.7.0->google-auth-oauthlib>=0.4.1->gspread) (2.10)\n",
            "Requirement already satisfied, skipping upgrade: chardet<4,>=3.0.2 in /usr/local/lib/python3.7/dist-packages (from requests>=2.0.0->requests-oauthlib>=0.7.0->google-auth-oauthlib>=0.4.1->gspread) (3.0.4)\n",
            "Requirement already satisfied, skipping upgrade: certifi>=2017.4.17 in /usr/local/lib/python3.7/dist-packages (from requests>=2.0.0->requests-oauthlib>=0.7.0->google-auth-oauthlib>=0.4.1->gspread) (2021.5.30)\n",
            "Requirement already satisfied, skipping upgrade: urllib3!=1.25.0,!=1.25.1,<1.26,>=1.21.1 in /usr/local/lib/python3.7/dist-packages (from requests>=2.0.0->requests-oauthlib>=0.7.0->google-auth-oauthlib>=0.4.1->gspread) (1.24.3)\n"
          ],
          "name": "stdout"
        }
      ]
    },
    {
      "cell_type": "code",
      "metadata": {
        "id": "4NSNsX-u4MnM"
      },
      "source": [
        "# Import the library, authenticate and create the interface to Sheets\n",
        "from google.colab import auth\n",
        "auth.authenticate_user()\n",
        "\n",
        "import gspread\n",
        "from oauth2client.client import GoogleCredentials\n",
        "\n",
        "gc = gspread.authorize(GoogleCredentials.get_application_default())"
      ],
      "execution_count": 3,
      "outputs": []
    },
    {
      "cell_type": "code",
      "metadata": {
        "id": "h43_Cw2X4ukI"
      },
      "source": [
        "# Open the SpreadSheet in Drive\n",
        "spreasheet = gc.open('Engenharia de Software - Desafio Lucas Néia Torres')"
      ],
      "execution_count": 4,
      "outputs": []
    },
    {
      "cell_type": "code",
      "metadata": {
        "id": "DlLLmMNw6Wa6"
      },
      "source": [
        "# Get the selected sheet \n",
        "page = spreasheet.sheet1"
      ],
      "execution_count": 6,
      "outputs": []
    },
    {
      "cell_type": "code",
      "metadata": {
        "colab": {
          "base_uri": "https://localhost:8080/"
        },
        "id": "06ZI954W7fxy",
        "outputId": "92ece76b-49c2-4d35-992b-d673513cbc7d"
      },
      "source": [
        "# Get the cells of absences, grades, situation and final grade\n",
        "print(page.acell(\"C3\"))\n",
        "print(page.acell(\"D3\"))\n",
        "print(page.acell(\"E3\"))\n",
        "print(page.acell(\"F3\"))\n",
        "print(page.acell(\"G3\"))\n",
        "print(page.acell(\"H3\"))\n"
      ],
      "execution_count": 7,
      "outputs": [
        {
          "output_type": "stream",
          "text": [
            "<Cell R3C3 'Faltas'>\n",
            "<Cell R3C4 'P1'>\n",
            "<Cell R3C5 'P2'>\n",
            "<Cell R3C6 'P3'>\n",
            "<Cell R3C7 'Situação'>\n",
            "<Cell R3C8 'Nota para Aprovação Final'>\n"
          ],
          "name": "stdout"
        }
      ]
    },
    {
      "cell_type": "code",
      "metadata": {
        "colab": {
          "base_uri": "https://localhost:8080/"
        },
        "id": "XVH1va9K8oDX",
        "outputId": "7cd51be1-02be-4749-9e39-f785259b0d10"
      },
      "source": [
        "# The variable \"i\" is the student row\n",
        "for i in range (4, 28):\n",
        "\n",
        "# Get the important cells of sheet\n",
        "  absences = int(page.acell(\"C\" + str(i)).value)\n",
        "  grade1 = page.acell(\"D\" + str(i)).value\n",
        "  grade2 = page.acell(\"E\" + str(i)).value\n",
        "  grade3 = page.acell(\"F\" + str(i)).value\n",
        "  cellSit = \"G\" + str(i)\n",
        "  cellFinalGrade = \"H\" + str(i)\n",
        "  \n",
        "# 25% of 60 classes = 15 classes (maximum)\n",
        "  if absences > 15:\n",
        "    page.update(cellSit, 'Reprovado por Falta')\n",
        "    page.update(cellFinalGrade, '0')\n",
        "\n",
        "  elif absences <= 15:\n",
        "\n",
        "# The function \"round()\" is used to round up\n",
        "    m = round((int(grade1) + int(grade2) + int(grade3))/3)\n",
        "\n",
        "# If the student has less than 16 absenses, the average is calculated\n",
        "\n",
        "    if m < 50:\n",
        "      page.update(cellSit, 'Reprovado por Nota')\n",
        "      page.update(cellFinalGrade, '0')\n",
        "\n",
        "    elif m >= 50 and m < 70:\n",
        "      page.update(cellSit, 'Exame Final')\n",
        "\n",
        "# The expression \"50 <= (naf + m)/2\" became \"naf + m = 50*2\" and finally \"naf = 100 - m\"\n",
        "# This expression returns the minimum grade to pass  \n",
        "      naf = 100 - m\n",
        "\n",
        "      page.update(cellFinalGrade, naf)\n",
        "\n",
        "    elif m >= 70:\n",
        "      page.update(cellSit, 'Aprovado')\n",
        "      page.update(cellFinalGrade, '0')\n",
        "  print(page.acell(\"B\" + str(i)))\n",
        "  print(\"média: \"+ str(m) )\n",
        "  print(\"faltas: \" + str(absences))\n",
        "  print(\"---------\")\n",
        "      "
      ],
      "execution_count": 9,
      "outputs": [
        {
          "output_type": "stream",
          "text": [
            "<Cell R4C2 'Eduardo'>\n",
            "média: 53\n",
            "faltas: 8\n",
            "---------\n",
            "<Cell R5C2 'Murilo'>\n",
            "média: 66\n",
            "faltas: 8\n",
            "---------\n",
            "<Cell R6C2 'Guilherme'>\n",
            "média: 66\n",
            "faltas: 19\n",
            "---------\n",
            "<Cell R7C2 'Flavia '>\n",
            "média: 66\n",
            "faltas: 23\n",
            "---------\n",
            "<Cell R8C2 'Ruan'>\n",
            "média: 62\n",
            "faltas: 13\n",
            "---------\n",
            "<Cell R9C2 'Arnando'>\n",
            "média: 62\n",
            "faltas: 23\n",
            "---------\n",
            "<Cell R10C2 'Lucas'>\n",
            "média: 57\n",
            "faltas: 5\n",
            "---------\n",
            "<Cell R11C2 'Fabio'>\n",
            "média: 79\n",
            "faltas: 10\n",
            "---------\n",
            "<Cell R12C2 'Alisson'>\n",
            "média: 58\n",
            "faltas: 15\n",
            "---------\n",
            "<Cell R13C2 'Felipe'>\n",
            "média: 53\n",
            "faltas: 12\n",
            "---------\n",
            "<Cell R14C2 'Rachel'>\n",
            "média: 63\n",
            "faltas: 11\n",
            "---------\n",
            "<Cell R15C2 'Jouy'>\n",
            "média: 64\n",
            "faltas: 13\n",
            "---------\n",
            "<Cell R16C2 'François'>\n",
            "média: 64\n",
            "faltas: 19\n",
            "---------\n",
            "<Cell R17C2 'Dâmaris'>\n",
            "média: 52\n",
            "faltas: 10\n",
            "---------\n",
            "<Cell R18C2 'Leonardo'>\n",
            "média: 52\n",
            "faltas: 16\n",
            "---------\n",
            "<Cell R19C2 'Guilherme '>\n",
            "média: 50\n",
            "faltas: 6\n",
            "---------\n",
            "<Cell R20C2 'Wesley'>\n",
            "média: 50\n",
            "faltas: 16\n",
            "---------\n",
            "<Cell R21C2 'Yuri'>\n",
            "média: 71\n",
            "faltas: 2\n",
            "---------\n",
            "<Cell R22C2 'Kira'>\n",
            "média: 43\n",
            "faltas: 8\n",
            "---------\n",
            "<Cell R23C2 'Cleici'>\n",
            "média: 43\n",
            "faltas: 22\n",
            "---------\n",
            "<Cell R24C2 'João Moacir'>\n",
            "média: 43\n",
            "faltas: 23\n",
            "---------\n",
            "<Cell R25C2 'Bruno'>\n",
            "média: 78\n",
            "faltas: 15\n",
            "---------\n",
            "<Cell R26C2 'Elcio'>\n",
            "média: 73\n",
            "faltas: 9\n",
            "---------\n",
            "<Cell R27C2 'Criscia'>\n",
            "média: 76\n",
            "faltas: 0\n",
            "---------\n"
          ],
          "name": "stdout"
        }
      ]
    }
  ]
}