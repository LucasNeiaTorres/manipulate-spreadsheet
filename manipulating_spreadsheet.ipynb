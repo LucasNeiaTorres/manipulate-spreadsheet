{
  "nbformat": 4,
  "nbformat_minor": 0,
  "metadata": {
    "colab": {
      "name": "manipulating-spreadsheet.ipynb",
      "provenance": [],
      "authorship_tag": "ABX9TyMFuPq0ZVKbHlGiv+0adSYt",
      "include_colab_link": true
    },
    "kernelspec": {
      "name": "python3",
      "display_name": "Python 3"
    },
    "language_info": {
      "name": "python"
    }
  },
  "cells": [
    {
      "cell_type": "markdown",
      "metadata": {
        "id": "view-in-github",
        "colab_type": "text"
      },
      "source": [
        "<a href=\"https://colab.research.google.com/github/LucasNeiaTorres/manipulate-spreadsheet/blob/main/manipulating_spreadsheet.ipynb\" target=\"_parent\"><img src=\"https://colab.research.google.com/assets/colab-badge.svg\" alt=\"Open In Colab\"/></a>"
      ]
    },
    {
      "cell_type": "code",
      "metadata": {
        "id": "X96HQJYk3yXc"
      },
      "source": [
        "# Install package gspread using pip\n",
        "!pip install --upgrade gspread"
      ],
      "execution_count": null,
      "outputs": []
    },
    {
      "cell_type": "code",
      "metadata": {
        "id": "4NSNsX-u4MnM"
      },
      "source": [
        "# Import the library, authenticate and create the interface to Sheets\n",
        "from google.colab import auth\n",
        "auth.authenticate_user()\n",
        "\n",
        "import gspread\n",
        "from oauth2client.client import GoogleCredentials\n",
        "\n",
        "gc = gspread.authorize(GoogleCredentials.get_application_default())"
      ],
      "execution_count": null,
      "outputs": []
    },
    {
      "cell_type": "code",
      "metadata": {
        "id": "h43_Cw2X4ukI"
      },
      "source": [
        "# Open the SpreadSheet in Drive\n",
        "spreadsheet = gc.open('Engenharia de Software - Desafio Lucas Néia Torres')"
      ],
      "execution_count": null,
      "outputs": []
    },
    {
      "cell_type": "code",
      "metadata": {
        "id": "DlLLmMNw6Wa6"
      },
      "source": [
        "# Get the selected sheet \n",
        "page = spreadsheet.sheet1"
      ],
      "execution_count": null,
      "outputs": []
    },
    {
      "cell_type": "code",
      "metadata": {
        "colab": {
          "base_uri": "https://localhost:8080/"
        },
        "id": "06ZI954W7fxy",
        "outputId": "1d7db2a5-8594-4e12-a6af-33fb3c5cc8ab"
      },
      "source": [
        "# Get the cells of absences, grades, situation and final grade\n",
        "print(page.acell(\"C3\"))\n",
        "print(page.acell(\"D3\"))\n",
        "print(page.acell(\"E3\"))\n",
        "print(page.acell(\"F3\"))\n",
        "print(page.acell(\"G3\"))\n",
        "print(page.acell(\"H3\"))\n"
      ],
      "execution_count": null,
      "outputs": [
        {
          "output_type": "stream",
          "text": [
            "<Cell R3C3 'Faltas'>\n",
            "<Cell R3C4 'P1'>\n",
            "<Cell R3C5 'P2'>\n",
            "<Cell R3C6 'P3'>\n",
            "<Cell R3C7 'Situação'>\n",
            "<Cell R3C8 'Nota para Aprovação Final'>\n"
          ],
          "name": "stdout"
        }
      ]
    },
    {
      "cell_type": "code",
      "metadata": {
        "id": "XVH1va9K8oDX"
      },
      "source": [
        "# The variable \"i\" is the student row\n",
        "# The student row is in the 4 to 28 row range\n",
        "for i in range (4, 28):\n",
        "\n",
        "# Get the important cells of sheet\n",
        "  absences = int(page.acell(\"C\" + str(i)).value)\n",
        "  grade1 = page.acell(\"D\" + str(i)).value\n",
        "  grade2 = page.acell(\"E\" + str(i)).value\n",
        "  grade3 = page.acell(\"F\" + str(i)).value\n",
        "  cellSit = \"G\" + str(i)\n",
        "  cellFinalGrade = \"H\" + str(i)\n",
        "  \n",
        "# 25% of 60 classes = 15 classes (maximum)\n",
        "  if absences > 15:\n",
        "    page.update(cellSit, 'Reprovado por Falta')\n",
        "    page.update(cellFinalGrade, '0')\n",
        "\n",
        "# If the student has less than 16 absenses, the average is calculated\n",
        "  elif absences <= 15:\n",
        "\n",
        "# The function \"round()\" is used to round up\n",
        "    m = round((int(grade1) + int(grade2) + int(grade3))/3)\n",
        "\n",
        "    if m < 50:\n",
        "      page.update(cellSit, 'Reprovado por Nota')\n",
        "      page.update(cellFinalGrade, '0')\n",
        "\n",
        "    elif m >= 50 and m < 70:\n",
        "      page.update(cellSit, 'Exame Final')\n",
        "\n",
        "# The expression \"50 <= (naf + m)/2\" became \"naf + m = 50*2\" and finally \"naf = 100 - m\"\n",
        "# This expression returns the minimum grade to pass  \n",
        "      naf = 100 - m\n",
        "\n",
        "      page.update(cellFinalGrade, naf)\n",
        "\n",
        "    elif m >= 70:\n",
        "      page.update(cellSit, 'Aprovado')\n",
        "      page.update(cellFinalGrade, '0')\n",
        "      \n",
        "  print(page.acell(\"B\" + str(i)))\n",
        "  print(\"média: \"+ str(m) )\n",
        "  print(\"faltas: \" + str(absences))\n",
        "  print(\"---------\")\n",
        "      "
      ],
      "execution_count": null,
      "outputs": []
    }
  ]
}